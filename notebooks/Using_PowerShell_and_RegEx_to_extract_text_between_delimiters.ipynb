{
 "cells": [
  {
   "cell_type": "markdown",
   "id": "negative-museum",
   "metadata": {},
   "source": [
    "# Using PowerShell and RegEx to extract text between delimiters"
   ]
  },
  {
   "cell_type": "markdown",
   "id": "roman-ghost",
   "metadata": {},
   "source": [
    "In this post I will share a little PowerShell function that I use quite frequently in order to extract text between delimiters out of a bigger chunk of text. I hope that this can be useful to others too.\n",
    "\n",
    "One use case for this is when someone forwards an email to me where the original email has lots of recipients. If I want to include some or all of the original recipients I need to extract the email addresses from the original email's message header:"
   ]
  },
  {
   "attachments": {
    "0902494f-ec15-4dc8-8fd1-a9fad96db4d4.png": {
     "image/png": "[encoded data removed]"
    }
   },
   "cell_type": "markdown",
   "id": "unavailable-berkeley",
   "metadata": {},
   "source": [
    "![image.png](attachment:0902494f-ec15-4dc8-8fd1-a9fad96db4d4.png)"
   ]
  },
  {
   "cell_type": "markdown",
   "id": "quantitative-average",
   "metadata": {},
   "source": [
    "The format of the email addresses in the message header usually follows the pattern NAME <EMAIL@DOMAIN.TLD>, NAME2 <EMAIL2@DOMAIN.TLD ...\n",
    "\n",
    "The pieces that I'm interested in are delimited by angle brackets. With some RegEx we can extract this information easily:"
   ]
  },
  {
   "cell_type": "code",
   "execution_count": 1,
   "id": "increasing-theta",
   "metadata": {},
   "outputs": [
    {
     "data": {
      "text/html": [
       "\r\n",
       "<div>\r\n",
       "    <div id='dotnet-interactive-this-cell-72.Microsoft.DotNet.Interactive.Http.HttpPort' style='display: none'>\r\n",
       "        The below script needs to be able to find the current output cell; this is an easy method to get it.\r\n",
       "    </div>\r\n",
       "    <script type='text/javascript'>\r\n",
       "async function probeAddresses(probingAddresses) {\r\n",
       "    function timeout(ms, promise) {\r\n",
       "        return new Promise(function (resolve, reject) {\r\n",
       "            setTimeout(function () {\r\n",
       "                reject(new Error('timeout'))\r\n",
       "            }, ms)\r\n",
       "            promise.then(resolve, reject)\r\n",
       "        })\r\n",
       "    }\r\n",
       "\r\n",
       "    if (Array.isArray(probingAddresses)) {\r\n",
       "        for (let i = 0; i < probingAddresses.length; i++) {\r\n",
       "\r\n",
       "            let rootUrl = probingAddresses[i];\r\n",
       "\r\n",
       "            if (!rootUrl.endsWith('/')) {\r\n",
       "                rootUrl = `${rootUrl}/`;\r\n",
       "            }\r\n",
       "\r\n",
       "            try {\r\n",
       "                let response = await timeout(1000, fetch(`${rootUrl}discovery`, {\r\n",
       "                    method: 'POST',\r\n",
       "                    cache: 'no-cache',\r\n",
       "                    mode: 'cors',\r\n",
       "                    timeout: 1000,\r\n",
       "                    headers: {\r\n",
       "                        'Content-Type': 'text/plain'\r\n",
       "                    },\r\n",
       "                    body: probingAddresses[i]\r\n",
       "                }));\r\n",
       "\r\n",
       "                if (response.status == 200) {\r\n",
       "                    return rootUrl;\r\n",
       "                }\r\n",
       "            }\r\n",
       "            catch (e) { }\r\n",
       "        }\r\n",
       "    }\r\n",
       "}\r\n",
       "\r\n",
       "function loadDotnetInteractiveApi() {\r\n",
       "    probeAddresses([\"http://10.2.1.30:1024/\", \"http://127.0.0.1:1024/\"])\r\n",
       "        .then((root) => {\r\n",
       "        // use probing to find host url and api resources\r\n",
       "        // load interactive helpers and language services\r\n",
       "        let dotnetInteractiveRequire = require.config({\r\n",
       "        context: '72.Microsoft.DotNet.Interactive.Http.HttpPort',\r\n",
       "                paths:\r\n",
       "            {\r\n",
       "                'dotnet-interactive': `${root}resources`\r\n",
       "                }\r\n",
       "        }) || require;\r\n",
       "\r\n",
       "            window.dotnetInteractiveRequire = dotnetInteractiveRequire;\r\n",
       "\r\n",
       "            window.configureRequireFromExtension = function(extensionName, extensionCacheBuster) {\r\n",
       "                let paths = {};\r\n",
       "                paths[extensionName] = `${root}extensions/${extensionName}/resources/`;\r\n",
       "                \r\n",
       "                let internalRequire = require.config({\r\n",
       "                    context: extensionCacheBuster,\r\n",
       "                    paths: paths,\r\n",
       "                    urlArgs: `cacheBuster=${extensionCacheBuster}`\r\n",
       "                    }) || require;\r\n",
       "\r\n",
       "                return internalRequire\r\n",
       "            };\r\n",
       "        \r\n",
       "            dotnetInteractiveRequire([\r\n",
       "                    'dotnet-interactive/dotnet-interactive'\r\n",
       "                ],\r\n",
       "                function (dotnet) {\r\n",
       "                    dotnet.init(window);\r\n",
       "                },\r\n",
       "                function (error) {\r\n",
       "                    console.log(error);\r\n",
       "                }\r\n",
       "            );\r\n",
       "        })\r\n",
       "        .catch(error => {console.log(error);});\r\n",
       "    }\r\n",
       "\r\n",
       "// ensure `require` is available globally\r\n",
       "if ((typeof(require) !==  typeof(Function)) || (typeof(require.config) !== typeof(Function))) {\r\n",
       "    let require_script = document.createElement('script');\r\n",
       "    require_script.setAttribute('src', 'https://cdnjs.cloudflare.com/ajax/libs/require.js/2.3.6/require.min.js');\r\n",
       "    require_script.setAttribute('type', 'text/javascript');\r\n",
       "    \r\n",
       "    \r\n",
       "    require_script.onload = function() {\r\n",
       "        loadDotnetInteractiveApi();\r\n",
       "    };\r\n",
       "\r\n",
       "    document.getElementsByTagName('head')[0].appendChild(require_script);\r\n",
       "}\r\n",
       "else {\r\n",
       "    loadDotnetInteractiveApi();\r\n",
       "}\r\n",
       "\r\n",
       "    </script>\r\n",
       "</div>"
      ]
     },
     "metadata": {},
     "output_type": "display_data"
    },
    {
     "name": "stdout",
     "output_type": "stream",
     "text": [
      "peter@gmail.com\n",
      "paul@gmail.com\n",
      "zoe@gmx.com\n"
     ]
    }
   ],
   "source": [
    "$testText = 'Peter <peter@gmail.com>, Paul <paul@gmail.com>, Zoe <zoe@gmx.com>'\n",
    "$pattern = '(?<=\\<).+?(?=\\>)'\n",
    "[regex]::Matches($testText, $pattern).Value"
   ]
  },
  {
   "cell_type": "markdown",
   "id": "hundred-operation",
   "metadata": {},
   "source": [
    "The RegEx can be interpreted like this:"
   ]
  },
  {
   "cell_type": "markdown",
   "id": "sticky-driving",
   "metadata": {},
   "source": [
    "| RegEx | Description |\n",
    "| --- | --- |\n",
    "| (?<=\\<) | Positive lookbehind. Matches only if the text is preceded by the specificied character ('<' is escaped with '\\' to ensure it's taken literally). But does not inlude the character within the match. |\n",
    "| .+? | Capure one or more (+) of any character ('.'), but only as few characters as possible ('?'). |\n",
    "| (?=\\>) | Positive lookahead. Matches only if the text is followed by the specificied character ('<' is escaped with '\\' to ensure it's taken literally). But does not inlude the character within the match. |"
   ]
  },
  {
   "cell_type": "markdown",
   "id": "beginning-helena",
   "metadata": {},
   "source": [
    "In order to make this into more useful I've converted this into a function with the following additional features:\n",
    "* Specify the enclosing character(s)\n",
    "   * Specify only the \"start\" character  (e.g. '[') and having the corresponding \"end\" character \"guessed\" (e.g. ']' )\n",
    "   * Or specify custom start and end characters\n",
    "* Input text by pipeline"
   ]
  },
  {
   "cell_type": "markdown",
   "id": "coordinated-session",
   "metadata": {},
   "source": [
    "The function can be used like this:"
   ]
  },
  {
   "cell_type": "code",
   "execution_count": 27,
   "id": "married-joint",
   "metadata": {},
   "outputs": [
    {
     "name": "stdout",
     "output_type": "stream",
     "text": [
      "some data\n",
      "even more data\n"
     ]
    }
   ],
   "source": [
    "$s=@'\n",
    "here is /some data\\\n",
    "here is /some other data/\n",
    "this is /even more data\\\n",
    "'@\n",
    "Get-TextWithin $s -StartChar / -EndChar \\"
   ]
  },
  {
   "cell_type": "code",
   "execution_count": 28,
   "id": "emotional-tokyo",
   "metadata": {},
   "outputs": [
    {
     "name": "stdout",
     "output_type": "stream",
     "text": [
      "some data\n",
      "even more data\n"
     ]
    }
   ],
   "source": [
    "$s=@'\n",
    "here is 'some data'\n",
    "here is \"some other data\"\n",
    "this is 'even more data'\n",
    "'@\n",
    "Get-TextWithin $s \"'\""
   ]
  },
  {
   "cell_type": "markdown",
   "id": "finnish-portland",
   "metadata": {},
   "source": [
    "The [Get-TextWitihin](https://github.com/DBremen/PowerShellScripts/blob/master/Data%20Wrangling/Get-TextWithin.ps1) function can also be downloaded via GitHub and is also part of my [PowerShell Scripts](https://github.com/DBremen/PowerShellScripts) collection module."
   ]
  },
  {
   "cell_type": "code",
   "execution_count": 29,
   "id": "demonstrated-railway",
   "metadata": {},
   "outputs": [],
   "source": [
    "function Get-TextWithin {\n",
    "    <#    \n",
    "        .SYNOPSIS\n",
    "            Get the text between two surrounding characters (e.g. brackets, quotes, or custom characters)\n",
    "        .DESCRIPTION\n",
    "            Use RegEx to retrieve the text within enclosing characters.\n",
    "\t    .PARAMETER Text\n",
    "            The text to retrieve the matches from.\n",
    "        .PARAMETER WithinChar\n",
    "            Single character, indicating the surrounding characters to retrieve the enclosing text for. \n",
    "            If this paramater is used the matching ending character is \"guessed\" (e.g. '(' = ')')\n",
    "        .PARAMETER StartChar\n",
    "            Single character, indicating the start surrounding characters to retrieve the enclosing text for. \n",
    "        .PARAMETER EndChar\n",
    "            Single character, indicating the end surrounding characters to retrieve the enclosing text for. \n",
    "        .EXAMPLE\n",
    "            # Retrieve all text within single quotes\n",
    "\t\t    $s=@'\n",
    "here is 'some data'\n",
    "here is \"some other data\"\n",
    "this is 'even more data'\n",
    "'@\n",
    "             Get-TextWithin $s \"'\"\n",
    "    .EXAMPLE\n",
    "    # Retrieve all text within custom start and end characters\n",
    "    $s=@'\n",
    "here is /some data\\\n",
    "here is /some other data/\n",
    "this is /even more data\\\n",
    "'@\n",
    "    Get-TextWithin $s -StartChar / -EndChar \\\n",
    "#>\n",
    "    [CmdletBinding()]\n",
    "    param( \n",
    "        [Parameter(Mandatory, \n",
    "            ValueFromPipeline = $true,\n",
    "            Position = 0)]   \n",
    "        $Text,\n",
    "        [Parameter(ParameterSetName = 'Single', Position = 1)] \n",
    "        [char]$WithinChar = '\"',\n",
    "        [Parameter(ParameterSetName = 'Double')] \n",
    "        [char]$StartChar,\n",
    "        [Parameter(ParameterSetName = 'Double')] \n",
    "        [char]$EndChar\n",
    "    )\n",
    "    $htPairs = @{\n",
    "        '(' = ')'\n",
    "        '[' = ']'\n",
    "        '{' = '}'\n",
    "        '<' = '>'\n",
    "    }\n",
    "    if ($PSBoundParameters.ContainsKey('WithinChar')) {\n",
    "        $StartChar = $EndChar = $WithinChar\n",
    "        if ($htPairs.ContainsKey([string]$WithinChar)) {\n",
    "            $EndChar = $htPairs[[string]$WithinChar]\n",
    "        }\n",
    "    }\n",
    "    $pattern = @\"\n",
    "(?<=\\$StartChar).+?(?=\\$EndChar)\n",
    "\"@\n",
    "    [regex]::Matches($Text, $pattern).Value\n",
    "}"
   ]
  }
 ],
 "metadata": {
  "kernelspec": {
   "display_name": ".NET (PowerShell)",
   "language": "PowerShell",
   "name": ".net-powershell"
  },
  "language_info": {
   "file_extension": ".ps1",
   "mimetype": "text/x-powershell",
   "name": "PowerShell",
   "pygments_lexer": "powershell",
   "version": "7.0"
  }
 },
 "nbformat": 4,
 "nbformat_minor": 5
}
